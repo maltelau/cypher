{
 "cells": [
  {
   "cell_type": "code",
   "execution_count": 7,
   "metadata": {
    "collapsed": true
   },
   "outputs": [],
   "source": [
    "library(tidytext)\n",
    "library(janeaustenr)\n",
    "library(dplyr)\n",
    "library(stringr)"
   ]
  },
  {
   "cell_type": "code",
   "execution_count": 20,
   "metadata": {
    "collapsed": false
   },
   "outputs": [],
   "source": [
    "em_lyrics <- as_tibble(read.csv('eminem.csv'))\n",
    "pac_lyrics <-  as_tibble(read.csv('tupac.csv'))\n",
    "\n",
    "em_lyrics <- mutate_if(is.factor, as.character)"
   ]
  },
  {
   "cell_type": "code",
   "execution_count": 22,
   "metadata": {
    "collapsed": false
   },
   "outputs": [
    {
     "name": "stdout",
     "output_type": "stream",
     "text": [
      "# A tibble: 43,142 x 5\n",
      "                    album artist\n",
      "                   <fctr> <fctr>\n",
      " 1 The Eminem Show (2002) Eminem\n",
      " 2 The Eminem Show (2002) Eminem\n",
      " 3 The Eminem Show (2002) Eminem\n",
      " 4 The Eminem Show (2002) Eminem\n",
      " 5 The Eminem Show (2002) Eminem\n",
      " 6 The Eminem Show (2002) Eminem\n",
      " 7 The Eminem Show (2002) Eminem\n",
      " 8 The Eminem Show (2002) Eminem\n",
      " 9 The Eminem Show (2002) Eminem\n",
      "10 The Eminem Show (2002) Eminem\n",
      "# ... with 43,132 more rows, and 3 more variables: lyric <fctr>, song <fctr>,\n",
      "#   year <int>\n"
     ]
    }
   ],
   "source": [
    "print(em_lyrics)"
   ]
  },
  {
   "cell_type": "code",
   "execution_count": 21,
   "metadata": {
    "collapsed": false
   },
   "outputs": [
    {
     "ename": "ERROR",
     "evalue": "Error in check_input(x): Input must be a character vector of any length or a list of character\n  vectors, each of which has a length of 1.\n",
     "output_type": "error",
     "traceback": [
      "Error in check_input(x): Input must be a character vector of any length or a list of character\n  vectors, each of which has a length of 1.\nTraceback:\n",
      "1. em_lyrics %>% group_by(album) %>% mutate(linenumber = row_number()) %>% \n .     ungroup() %>% unnest_tokens(word, text)",
      "2. withVisible(eval(quote(`_fseq`(`_lhs`)), env, env))",
      "3. eval(quote(`_fseq`(`_lhs`)), env, env)",
      "4. eval(quote(`_fseq`(`_lhs`)), env, env)",
      "5. `_fseq`(`_lhs`)",
      "6. freduce(value, `_function_list`)",
      "7. withVisible(function_list[[k]](value))",
      "8. function_list[[k]](value)",
      "9. unnest_tokens(., word, text)",
      "10. unnest_tokens_(tbl, output_col, input_col, token = token, format = format, \n  .     to_lower = to_lower, drop = drop, collapse = collapse, ...)",
      "11. unnest_tokens_.default(tbl, output_col, input_col, token = token, \n  .     format = format, to_lower = to_lower, drop = drop, collapse = collapse, \n  .     ...)",
      "12. tokenfunc(col, ...)",
      "13. tf(col, lowercase = FALSE, ...)",
      "14. check_input(x)",
      "15. stop(\"Input must be a character vector of any length or a list of character\\n\", \n  .     \"  vectors, each of which has a length of 1.\")"
     ]
    }
   ],
   "source": [
    "tidy_lyrics <- em_lyrics %>%\n",
    "    group_by(album) %>%\n",
    "    mutate(linenumber = row_number()) %>%\n",
    "    ungroup() %>%\n",
    "    unnest_tokens(word, text)"
   ]
  },
  {
   "cell_type": "code",
   "execution_count": null,
   "metadata": {
    "collapsed": true
   },
   "outputs": [],
   "source": []
  },
  {
   "cell_type": "code",
   "execution_count": null,
   "metadata": {
    "collapsed": true
   },
   "outputs": [],
   "source": []
  },
  {
   "cell_type": "code",
   "execution_count": null,
   "metadata": {
    "collapsed": true
   },
   "outputs": [],
   "source": []
  }
 ],
 "metadata": {
  "kernelspec": {
   "display_name": "R 3.4",
   "language": "R",
   "name": "ir32"
  },
  "language_info": {
   "codemirror_mode": "r",
   "file_extension": ".r",
   "mimetype": "text/x-r-source",
   "name": "R",
   "pygments_lexer": "r",
   "version": "3.4.1"
  }
 },
 "nbformat": 4,
 "nbformat_minor": 2
}
