{
 "cells": [
  {
   "cell_type": "code",
   "execution_count": 2,
   "metadata": {
    "collapsed": true
   },
   "outputs": [],
   "source": [
    "import requests\n",
    "from bs4 import BeautifulSoup as BS"
   ]
  },
  {
   "cell_type": "code",
   "execution_count": 3,
   "metadata": {
    "collapsed": false
   },
   "outputs": [
    {
     "name": "stderr",
     "output_type": "stream",
     "text": [
      "/Users/tdobbins/anaconda/lib/python2.7/site-packages/bs4/__init__.py:181: UserWarning: No parser was explicitly specified, so I'm using the best available HTML parser for this system (\"lxml\"). This usually isn't a problem, but if you run this code on another system, or in a different virtual environment, it may use a different parser and behave differently.\n",
      "\n",
      "The code that caused this warning is on line 174 of the file /Users/tdobbins/anaconda/lib/python2.7/runpy.py. To get rid of this warning, change code that looks like this:\n",
      "\n",
      " BeautifulSoup([your markup])\n",
      "\n",
      "to this:\n",
      "\n",
      " BeautifulSoup([your markup], \"lxml\")\n",
      "\n",
      "  markup_type=markup_type))\n"
     ]
    }
   ],
   "source": [
    "artist_landing_url = 'https://www.lyrics.com/serp.php?st=eminem&o=1&qtype=3'\n",
    "landing_request = requests.get(artist_landing_url)\n",
    "landing_response = landing_request.content\n",
    "landing_soup = BS(landing_response, \"html\")"
   ]
  },
  {
   "cell_type": "code",
   "execution_count": 4,
   "metadata": {
    "collapsed": false
   },
   "outputs": [
    {
     "name": "stdout",
     "output_type": "stream",
     "text": [
      "https://www.lyrics.com/album/1998132\n",
      "https://www.lyrics.com/album/792853\n",
      "https://www.lyrics.com/album/2513955\n",
      "https://www.lyrics.com/album/2600228\n",
      "https://www.lyrics.com/album/710181\n",
      "https://www.lyrics.com/album/590442\n",
      "https://www.lyrics.com/album/590444\n",
      "https://www.lyrics.com/album/854405\n",
      "https://www.lyrics.com/album/652933\n",
      "https://www.lyrics.com/album/929672\n",
      "https://www.lyrics.com/album/1204114\n",
      "https://www.lyrics.com/album/867997\n",
      "https://www.lyrics.com/album/867998\n",
      "https://www.lyrics.com/album/561066\n",
      "https://www.lyrics.com/album/698053\n",
      "https://www.lyrics.com/album/781273\n"
     ]
    }
   ],
   "source": [
    "base_url = 'https://www.lyrics.com'\n",
    "\n",
    "albums = {}\n",
    "for row in landing_soup.find_all('table', {'class': 'tdata'})[0].find_all('td'):\n",
    "    a_tag = row.find_all('a')\n",
    "    if a_tag:\n",
    "        href = a_tag[0]['href']\n",
    "        album_name = a_tag[0].text.lower()\n",
    "        if 'album' in href:\n",
    "            if album_name not in albums:\n",
    "                album_url = base_url + href\n",
    "                print album_url\n",
    "            albums[album_name] = album_url"
   ]
  },
  {
   "cell_type": "code",
   "execution_count": 5,
   "metadata": {
    "collapsed": false
   },
   "outputs": [
    {
     "data": {
      "text/plain": [
       "{u'a shady tribute to eminem': 'https://www.lyrics.com/album/652933',\n",
       " u'a tribute to eminem': 'https://www.lyrics.com/album/561066',\n",
       " u'a tribute to eminem [da hype]': 'https://www.lyrics.com/album/1204114',\n",
       " u'a tribute to eminem: my name is...': 'https://www.lyrics.com/album/854405',\n",
       " u\"can you flow? instrumental renditions of eminem's greatest hits\": 'https://www.lyrics.com/album/929672',\n",
       " u'eminem & friends: game over sessions': 'https://www.lyrics.com/album/792853',\n",
       " u'eminem is back': 'https://www.lyrics.com/album/710181',\n",
       " u'eminem presents: the anger management tour [clean]': 'https://www.lyrics.com/album/781273',\n",
       " u'eminem presents: the re-up': 'https://www.lyrics.com/album/561066',\n",
       " u'eminem presents: the re-up [clean]': 'https://www.lyrics.com/album/867998',\n",
       " u'maximum eminem: the unauthorised biography of eminem': 'https://www.lyrics.com/album/1998132',\n",
       " u\"the eminem collector's box\": 'https://www.lyrics.com/album/2600228',\n",
       " u'the eminem show': 'https://www.lyrics.com/album/781273',\n",
       " u'the eminem show [clean]': 'https://www.lyrics.com/album/590444',\n",
       " u'the eminem show [deluxe]': 'https://www.lyrics.com/album/590442',\n",
       " u\"the world's greatest tribute to eminem\": 'https://www.lyrics.com/album/698053'}"
      ]
     },
     "execution_count": 5,
     "metadata": {},
     "output_type": "execute_result"
    }
   ],
   "source": [
    "albums"
   ]
  },
  {
   "cell_type": "code",
   "execution_count": null,
   "metadata": {
    "collapsed": true
   },
   "outputs": [],
   "source": []
  },
  {
   "cell_type": "code",
   "execution_count": null,
   "metadata": {
    "collapsed": true
   },
   "outputs": [],
   "source": []
  },
  {
   "cell_type": "code",
   "execution_count": null,
   "metadata": {
    "collapsed": true
   },
   "outputs": [],
   "source": []
  }
 ],
 "metadata": {
  "kernelspec": {
   "display_name": "Python 2",
   "language": "python",
   "name": "python2"
  },
  "language_info": {
   "codemirror_mode": {
    "name": "ipython",
    "version": 2
   },
   "file_extension": ".py",
   "mimetype": "text/x-python",
   "name": "python",
   "nbconvert_exporter": "python",
   "pygments_lexer": "ipython2",
   "version": "2.7.13"
  }
 },
 "nbformat": 4,
 "nbformat_minor": 2
}
